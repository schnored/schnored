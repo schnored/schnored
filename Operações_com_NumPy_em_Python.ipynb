{
  "cells": [
    {
      "cell_type": "markdown",
      "metadata": {
        "id": "view-in-github",
        "colab_type": "text"
      },
      "source": [
        "<a href=\"https://colab.research.google.com/github/schnored/schnored/blob/main/Opera%C3%A7%C3%B5es_com_NumPy_em_Python.ipynb\" target=\"_parent\"><img src=\"https://colab.research.google.com/assets/colab-badge.svg\" alt=\"Open In Colab\"/></a>"
      ]
    },
    {
      "cell_type": "code",
      "source": [
        "# 1. Importe a biblioteca NumPy.\n",
        "import numpy as np\n",
        "\n",
        "# 2. Crie um array unidimensional chamado arr com os números de 1 a 10.\n",
        "arr = np.arange(1, 11)\n",
        "\n",
        "# 3. Crie uma matriz bidimensional chamada matriz com dimensões 3x4, preenchida com números inteiros de 1 a 12.\n",
        "matriz = np.arange(1, 13).reshape(3, 4)\n",
        "\n",
        "# 4. Imprima o array arr e a matriz matriz.\n",
        "print(\"Array arr:\")\n",
        "print(arr)\n",
        "print(\"\\nMatriz matriz:\")\n",
        "print(matriz)\n",
        "\n",
        "# 5. Acesse o elemento “5” do array arr e o elemento “8” da matriz matriz. Imprima os valores obtidos.\n",
        "elemento_arr_5 = arr[4]  # Índices começam em 0\n",
        "elemento_matriz_8 = matriz[1, 3]  # Linha 1, coluna 3 (índices começam em 0)\n",
        "print(\"\\nElemento '5' do array arr:\", elemento_arr_5)\n",
        "print(\"Elemento '8' da matriz matriz:\", elemento_matriz_8)\n",
        "\n",
        "# 6. Crie um novo array chamado arr_slice que contenha os elementos do array arr no intervalo de índices de 2 a 6 (exclusivo).\n",
        "arr_slice = arr[2:6]\n",
        "print(\"\\nArray arr_slice (índices 2 a 5):\", arr_slice)\n",
        "\n",
        "# 7. Realize uma operação matemática de sua escolha (por exemplo, multiplicação por 2) em todos os elementos do array arr e armazene o resultado em um novo array chamado arr_resultado.\n",
        "arr_resultado = arr * 2\n",
        "print(\"\\nArray arr_resultado (arr multiplicado por 2):\", arr_resultado)\n",
        "\n",
        "# 8. Calcule a soma de todos os elementos da matriz matriz. Imprima o valor obtido.\n",
        "soma_matriz = np.sum(matriz)\n",
        "print(\"\\nSoma de todos os elementos da matriz matriz:\", soma_matriz)\n",
        "\n",
        "# 9. Calcule a média dos elementos do array arr e imprima o valor obtido.\n",
        "media_arr = np.mean(arr)\n",
        "print(\"\\nMédia dos elementos do array arr:\", media_arr)\n",
        "\n",
        "# 10. Crie uma matriz chamada matriz_transposta que seja a transposta da matriz matriz. Imprima a matriz matriz_transposta.\n",
        "matriz_transposta = matriz.T\n",
        "print(\"\\nMatriz matriz_transposta:\")\n",
        "print(matriz_transposta)\n",
        "\n",
        "# 11. Concatene o array arr com o array arr_slice e armazene o resultado em um novo array chamado arr_concatenado. Imprima o array arr_concatenado.\n",
        "arr_concatenado = np.concatenate((arr, arr_slice))\n",
        "print(\"\\nArray arr_concatenado (arr e arr_slice):\", arr_concatenado)\n",
        "\n",
        "# 12. Imprima os dados obtidos (já foram impressos nos passos anteriores)"
      ],
      "outputs": [],
      "execution_count": null,
      "metadata": {
        "id": "x2pw5dVGzCZP"
      }
    }
  ],
  "metadata": {
    "colab": {
      "provenance": [],
      "include_colab_link": true
    },
    "kernelspec": {
      "display_name": "Python 3",
      "name": "python3"
    }
  },
  "nbformat": 4,
  "nbformat_minor": 0
}